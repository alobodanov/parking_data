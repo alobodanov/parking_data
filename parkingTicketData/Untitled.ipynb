{
 "cells": [
  {
   "cell_type": "code",
   "execution_count": 1,
   "metadata": {},
   "outputs": [],
   "source": [
    "import os\n",
    "from flask import (\n",
    "    Flask,\n",
    "    render_template,\n",
    "    jsonify,\n",
    "    request,\n",
    "    redirect,\n",
    "    Markup\n",
    ")\n",
    "import json\n",
    "import re\n",
    "import pandas as pd\n",
    "from geopy.geocoders import Nominatim\n",
    "from flask_sqlalchemy import SQLAlchemy\n",
    "import time\n",
    "csv_tickets_1 = \"Resources/parking_tickets_2018/Parking_Tags_Data_2018_1.csv\"\n",
    "tickets_2015_df = pd.read_csv(csv_tickets_1)\n",
    "locations = list(tickets_2015_df[\"location2\"])\n",
    "clean_locations = []\n",
    "\n",
    "for location in locations:\n",
    "    try:\n",
    "        re.search(r'\\d+\\w+', location)\n",
    "        clean_locations.append(location)\n",
    "    except:\n",
    "        continue\n",
    "\n",
    "clean_locations1 = clean_locations[:933495]\n",
    "clean_locations2 = clean_locations[933495:]\n",
    "clean_locations1 = list(dict.fromkeys(clean_locations1))\n",
    "clean_locations2 = list(dict.fromkeys(clean_locations2))\n",
    "clean_locations = clean_locations1 + clean_locations2\n",
    "clean_locations = list(dict.fromkeys(clean_locations))\n",
    "lat = []\n",
    "lon = []\n",
    "    \n",
    "df = pd.DataFrame({'location2': clean_locations})\n"
   ]
  },
  {
   "cell_type": "code",
   "execution_count": null,
   "metadata": {},
   "outputs": [],
   "source": []
  }
 ],
 "metadata": {
  "kernelspec": {
   "display_name": "Python 3",
   "language": "python",
   "name": "python3"
  },
  "language_info": {
   "codemirror_mode": {
    "name": "ipython",
    "version": 3
   },
   "file_extension": ".py",
   "mimetype": "text/x-python",
   "name": "python",
   "nbconvert_exporter": "python",
   "pygments_lexer": "ipython3",
   "version": "3.7.1"
  }
 },
 "nbformat": 4,
 "nbformat_minor": 2
}
